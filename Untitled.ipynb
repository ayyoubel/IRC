{
 "cells": [
  {
   "cell_type": "code",
   "execution_count": 1,
   "id": "23974398",
   "metadata": {},
   "outputs": [],
   "source": [
    "import heapq\n",
    "\n",
    "def heuristic(node, goal):\n",
    "    return abs(node[0] - goal[0]) + abs(node[1] - goal[1])\n",
    "\n",
    "def a_star(maze):\n",
    "    def get_neighbors(node):\n",
    "        row, col = node\n",
    "        neighbors = []\n",
    "\n",
    "        if row > 0 and maze[row - 1][col] != '#':\n",
    "            neighbors.append((row - 1, col))\n",
    "        if row < len(maze) - 1 and maze[row + 1][col] != '#':\n",
    "            neighbors.append((row + 1, col))\n",
    "        if col > 0 and maze[row][col - 1] != '#':\n",
    "            neighbors.append((row, col - 1))\n",
    "        if col < len(maze[0]) - 1 and maze[row][col + 1] != '#':\n",
    "            neighbors.append((row, col + 1))\n",
    "\n",
    "        return neighbors\n",
    "\n",
    "    start = find_start(maze)\n",
    "    end = find_end(maze)\n",
    "\n",
    "    heap = [(0, start)]\n",
    "    visited = set()\n",
    "    came_from = {start: (0, None)}\n",
    "\n",
    "    while heap:\n",
    "        current_cost, current_node = heapq.heappop(heap)\n",
    "\n",
    "        if current_node == end:\n",
    "            path = reconstruct_path(came_from, start, end)\n",
    "            return path\n",
    "\n",
    "        if current_node in visited:\n",
    "            continue\n",
    "\n",
    "        visited.add(current_node)\n",
    "\n",
    "        for neighbor in get_neighbors(current_node):\n",
    "            new_cost = current_cost + 1\n",
    "            if neighbor not in visited and (neighbor not in came_from or new_cost < came_from[neighbor][0]):\n",
    "                heapq.heappush(heap, (new_cost + heuristic(neighbor, end), neighbor))\n",
    "                came_from[neighbor] = (new_cost, current_node)\n",
    "\n",
    "    return None  # No path found\n",
    "\n",
    "def find_start(maze):\n",
    "    for i in range(len(maze)):\n",
    "        for j in range(len(maze[0])):\n",
    "            if maze[i][j] == 'S':\n",
    "                return (i, j)\n",
    "\n",
    "def find_end(maze):\n",
    "    for i in range(len(maze)):\n",
    "        for j in range(len(maze[0])):\n",
    "            if maze[i][j] == 'E':\n",
    "                return (i, j)\n",
    "\n",
    "def reconstruct_path(came_from, start, end):\n",
    "    path = []\n",
    "    current_node = end\n",
    "    while current_node != start:\n",
    "        path.append(current_node)\n",
    "        current_node = came_from[current_node][1]\n",
    "    path.append(start)\n",
    "    path.reverse()\n",
    "    return path\n",
    "\n",
    "def print_solution(maze, path):\n",
    "    for i in range(len(maze)):\n",
    "        for j in range(len(maze[0])):\n",
    "            if (i, j) in path:\n",
    "                print('X', end=' ')\n",
    "            else:\n",
    "                print(maze[i][j], end=' ')\n",
    "        print()\n"
   ]
  },
  {
   "cell_type": "code",
   "execution_count": 4,
   "id": "fd0a3788",
   "metadata": {},
   "outputs": [
    {
     "ename": "ValueError",
     "evalue": "('Unexpected pixel color:', 255)",
     "output_type": "error",
     "traceback": [
      "\u001b[1;31m---------------------------------------------------------------------------\u001b[0m",
      "\u001b[1;31mValueError\u001b[0m                                Traceback (most recent call last)",
      "\u001b[1;32m~\\AppData\\Local\\Temp/ipykernel_16448/3073846030.py\u001b[0m in \u001b[0;36m<module>\u001b[1;34m\u001b[0m\n\u001b[0;32m     32\u001b[0m \u001b[1;33m\u001b[0m\u001b[0m\n\u001b[0;32m     33\u001b[0m \u001b[1;31m# Load the maze from the image\u001b[0m\u001b[1;33m\u001b[0m\u001b[1;33m\u001b[0m\u001b[1;33m\u001b[0m\u001b[0m\n\u001b[1;32m---> 34\u001b[1;33m \u001b[0mmaze\u001b[0m \u001b[1;33m=\u001b[0m \u001b[0mload_maze_from_image\u001b[0m\u001b[1;33m(\u001b[0m\u001b[1;34m\"r.png\"\u001b[0m\u001b[1;33m)\u001b[0m  \u001b[1;31m# Replace with your image path\u001b[0m\u001b[1;33m\u001b[0m\u001b[1;33m\u001b[0m\u001b[0m\n\u001b[0m\u001b[0;32m     35\u001b[0m \u001b[1;33m\u001b[0m\u001b[0m\n\u001b[0;32m     36\u001b[0m \u001b[1;31m# Solve the maze using A*\u001b[0m\u001b[1;33m\u001b[0m\u001b[1;33m\u001b[0m\u001b[1;33m\u001b[0m\u001b[0m\n",
      "\u001b[1;32m~\\AppData\\Local\\Temp/ipykernel_16448/3073846030.py\u001b[0m in \u001b[0;36mload_maze_from_image\u001b[1;34m(image_path)\u001b[0m\n\u001b[0;32m     26\u001b[0m                     \u001b[0mrow\u001b[0m\u001b[1;33m.\u001b[0m\u001b[0mappend\u001b[0m\u001b[1;33m(\u001b[0m\u001b[1;34m\"E\"\u001b[0m\u001b[1;33m)\u001b[0m  \u001b[1;31m# Red (end)\u001b[0m\u001b[1;33m\u001b[0m\u001b[1;33m\u001b[0m\u001b[0m\n\u001b[0;32m     27\u001b[0m                 \u001b[1;32melse\u001b[0m\u001b[1;33m:\u001b[0m\u001b[1;33m\u001b[0m\u001b[1;33m\u001b[0m\u001b[0m\n\u001b[1;32m---> 28\u001b[1;33m                     \u001b[1;32mraise\u001b[0m \u001b[0mValueError\u001b[0m\u001b[1;33m(\u001b[0m\u001b[1;34m\"Unexpected pixel color:\"\u001b[0m\u001b[1;33m,\u001b[0m \u001b[0mpixel_value\u001b[0m\u001b[1;33m)\u001b[0m\u001b[1;33m\u001b[0m\u001b[1;33m\u001b[0m\u001b[0m\n\u001b[0m\u001b[0;32m     29\u001b[0m         \u001b[0mmaze\u001b[0m\u001b[1;33m.\u001b[0m\u001b[0mappend\u001b[0m\u001b[1;33m(\u001b[0m\u001b[0mrow\u001b[0m\u001b[1;33m)\u001b[0m\u001b[1;33m\u001b[0m\u001b[1;33m\u001b[0m\u001b[0m\n\u001b[0;32m     30\u001b[0m \u001b[1;33m\u001b[0m\u001b[0m\n",
      "\u001b[1;31mValueError\u001b[0m: ('Unexpected pixel color:', 255)"
     ]
    }
   ],
   "source": [
    "from PIL import Image\n",
    "import heapq\n",
    "\n",
    "def heuristic(node, goal):\n",
    "    return abs(node[0] - goal[0]) + abs(node[1] - goal[1])\n",
    "\n",
    "\n",
    "\n",
    "def load_maze_from_image(image_path):\n",
    "    maze_image = Image.open(image_path).convert(\"L\")  # Load and convert to grayscale\n",
    "    width, height = maze_image.size\n",
    "\n",
    "    maze = []\n",
    "    for y in range(height):\n",
    "        row = []\n",
    "        for x in range(width):\n",
    "            pixel_value = maze_image.getpixel((x, y))\n",
    "            if pixel_value == 0:\n",
    "                row.append(\"#\")  # Black (wall)\n",
    "            elif pixel_value == 150:\n",
    "                row.append(\" \")  # White (path)\n",
    "            else:\n",
    "                if pixel_value == (0, 255, 0):\n",
    "                    row.append(\"S\")  # Green (start)\n",
    "                elif pixel_value == (255, 0, 0):\n",
    "                    row.append(\"E\")  # Red (end)\n",
    "                else:\n",
    "                    raise ValueError(\"Unexpected pixel color:\", pixel_value)\n",
    "        maze.append(row)\n",
    "\n",
    "    return maze\n",
    "\n",
    "# Load the maze from the image\n",
    "maze = load_maze_from_image(\"r.png\")  # Replace with your image path\n",
    "\n",
    "# Solve the maze using A*\n",
    "path = a_star(maze)\n",
    "\n",
    "# Print the solution\n",
    "print_solution(maze, path)"
   ]
  },
  {
   "cell_type": "code",
   "execution_count": 18,
   "id": "5f7e0bc3",
   "metadata": {},
   "outputs": [],
   "source": [
    "maze_image = Image.open('r.png')"
   ]
  },
  {
   "cell_type": "code",
   "execution_count": 20,
   "id": "172f1b3b",
   "metadata": {},
   "outputs": [
    {
     "data": {
      "text/plain": [
       "(288, 192)"
      ]
     },
     "execution_count": 20,
     "metadata": {},
     "output_type": "execute_result"
    }
   ],
   "source": [
    "maze_image.size"
   ]
  },
  {
   "cell_type": "code",
   "execution_count": 13,
   "id": "31a81e18",
   "metadata": {},
   "outputs": [
    {
     "name": "stdout",
     "output_type": "stream",
     "text": [
      "[(0, 255, 0), (0, 0, 0), (255, 255, 255)]\n"
     ]
    }
   ],
   "source": [
    "unique_colors = set()\n",
    "width, height = maze_image.size\n",
    "for x in range(width):\n",
    "    for y in range(height):\n",
    "        pixel = maze_image.getpixel((x, y))\n",
    "        unique_colors.add(pixel)\n",
    "colors_list = list(unique_colors)\n",
    "print(colors_list)"
   ]
  },
  {
   "cell_type": "code",
   "execution_count": 14,
   "id": "cf2d6236",
   "metadata": {},
   "outputs": [
    {
     "name": "stdout",
     "output_type": "stream",
     "text": [
      "Minimal distance between black and green pixels: 11.0\n"
     ]
    }
   ],
   "source": [
    "from PIL import Image\n",
    "import math\n",
    "\n",
    "def find_min_distance(image_path):\n",
    "    \"\"\"Finds the minimal distance between black and green pixels in an image.\"\"\"\n",
    "\n",
    "    image = Image.open(image_path)\n",
    "    image_rgb = image.convert('RGB')\n",
    "\n",
    "    min_distance = float('inf')  # Initialize minimum distance to infinity\n",
    "\n",
    "    black_pixels = []\n",
    "    green_pixels = []\n",
    "\n",
    "    # Get coordinates of black and green pixels\n",
    "    for x in range(image_rgb.width):\n",
    "        for y in range(image_rgb.height):\n",
    "            pixel = image_rgb.getpixel((x, y))\n",
    "            if pixel == (0, 0, 0):\n",
    "                black_pixels.append((x, y))\n",
    "            elif pixel == (0, 255, 0):\n",
    "                green_pixels.append((x, y))\n",
    "\n",
    "    # Calculate distances between black and green pixels\n",
    "    for black_x, black_y in black_pixels:\n",
    "        for green_x, green_y in green_pixels:\n",
    "            distance = math.sqrt((black_x - green_x)**2 + (black_y - green_y)**2)\n",
    "            min_distance = min(min_distance, distance)\n",
    "\n",
    "    return min_distance\n",
    "\n",
    "# Example usage:\n",
    "image_path = 'r.png'  # Replace with your image path\n",
    "min_distance = find_min_distance(image_path)\n",
    "print(\"Minimal distance between black and green pixels:\", min_distance)"
   ]
  },
  {
   "cell_type": "code",
   "execution_count": 15,
   "id": "00035b99",
   "metadata": {},
   "outputs": [
    {
     "data": {
      "text/plain": [
       "(288, 192)"
      ]
     },
     "execution_count": 15,
     "metadata": {},
     "output_type": "execute_result"
    }
   ],
   "source": [
    "maze_image.size"
   ]
  },
  {
   "cell_type": "code",
   "execution_count": 17,
   "id": "79180090",
   "metadata": {},
   "outputs": [
    {
     "data": {
      "text/plain": [
       "17.454545454545453"
      ]
     },
     "execution_count": 17,
     "metadata": {},
     "output_type": "execute_result"
    }
   ],
   "source": [
    "192/11"
   ]
  },
  {
   "cell_type": "code",
   "execution_count": 18,
   "id": "160cdbee",
   "metadata": {},
   "outputs": [
    {
     "name": "stdout",
     "output_type": "stream",
     "text": [
      "Le PGCD de 288 et 192 est : 96\n"
     ]
    }
   ],
   "source": [
    "def pgcd(a, b):\n",
    "    while b:\n",
    "        a, b = b, a % b\n",
    "    return a\n",
    "\n",
    "# Exemple d'utilisation\n",
    "nombre1 = maze_image.size[0]\n",
    "nombre2 = maze_image.size[1]\n",
    "\n",
    "resultat_pgcd = pgcd(nombre1, nombre2)\n",
    "\n",
    "print(f\"Le PGCD de {nombre1} et {nombre2} est : {resultat_pgcd}\")"
   ]
  },
  {
   "cell_type": "code",
   "execution_count": 19,
   "id": "ee65a980",
   "metadata": {},
   "outputs": [
    {
     "name": "stdout",
     "output_type": "stream",
     "text": [
      "Les diviseurs de 96 sont : [1, 2, 3, 4, 6, 8, 12, 16, 24, 32, 48, 96]\n"
     ]
    }
   ],
   "source": [
    "def diviseurs(nombre):\n",
    "    liste_diviseurs = []\n",
    "    for i in range(1, nombre // 2 + 1):\n",
    "        if nombre % i == 0:\n",
    "            liste_diviseurs.append(i)\n",
    "    liste_diviseurs.append(nombre)  # Ajoute le nombre lui-même comme diviseur\n",
    "    return liste_diviseurs\n",
    "\n",
    "# Exemple d'utilisation\n",
    "nombre_a_tester = 96\n",
    "\n",
    "resultat_diviseurs = diviseurs(nombre_a_tester)\n",
    "\n",
    "print(f\"Les diviseurs de {nombre_a_tester} sont : {resultat_diviseurs}\")\n"
   ]
  },
  {
   "cell_type": "code",
   "execution_count": 82,
   "id": "6d9a06a3",
   "metadata": {},
   "outputs": [],
   "source": [
    "from PIL import Image, ImageDraw\n",
    "\n",
    "def plot_grid_lines(image_path, grid_step=12, line_color=(255, 0, 0)):\n",
    "    \"\"\"Plots red grid lines with a specified step on an image.\"\"\"\n",
    "\n",
    "    image = Image.open(image_path)\n",
    "    image_draw = ImageDraw.Draw(image)\n",
    "\n",
    "    width, height = image.size\n",
    "\n",
    "    # Draw vertical lines\n",
    "    for x in range(0, width+1, grid_step):\n",
    "        image_draw.line([(x, 0), (x, height+1)], fill=line_color, width=1)\n",
    "\n",
    "    # Draw horizontal lines\n",
    "    for y in range(0, height+1, grid_step):\n",
    "        image_draw.line([(0, y), (width+1, y)], fill=line_color, width=1)\n",
    "\n",
    "    return image\n",
    "\n",
    "# Example usage:\n",
    "image_path = 'r.png'  # Replace with your image path\n",
    "image_with_grid = plot_grid_lines(image_path)\n",
    "image_with_grid.save('image_with_grid2.png')  # Save the modified image"
   ]
  },
  {
   "cell_type": "code",
   "execution_count": 83,
   "id": "ebbba699",
   "metadata": {},
   "outputs": [
    {
     "data": {
      "image/png": "[encoded data removed]",
      "text/plain": [
       "<PIL.PngImagePlugin.PngImageFile image mode=RGB size=288x192>"
      ]
     },
     "execution_count": 83,
     "metadata": {},
     "output_type": "execute_result"
    }
   ],
   "source": [
    "image_with_grid"
   ]
  },
  {
   "cell_type": "code",
   "execution_count": 89,
   "id": "071dc6bf",
   "metadata": {},
   "outputs": [
    {
     "data": {
      "text/plain": [
       "16.0"
      ]
     },
     "execution_count": 89,
     "metadata": {},
     "output_type": "execute_result"
    }
   ],
   "source": [
    "192/12"
   ]
  },
  {
   "cell_type": "code",
   "execution_count": 90,
   "id": "8ea3ead2",
   "metadata": {},
   "outputs": [
    {
     "data": {
      "image/png": "[encoded data removed]",
      "text/plain": [
       "<PIL.Image.Image image mode=RGB size=288x13>"
      ]
     },
     "execution_count": 90,
     "metadata": {},
     "output_type": "execute_result"
    }
   ],
   "source": [
    "from PIL import Image\n",
    "\n",
    "def show_first_two_lines(image_path):\n",
    "    \"\"\"Displays the first two lines of an image.\"\"\"\n",
    "\n",
    "    image = Image.open(image_path)\n",
    "    width, height = image.size\n",
    "\n",
    "    # Crop the image to include only the first two lines\n",
    "    cropped_image = image.crop((0, 0,width, 13))\n",
    "\n",
    "    # Display the cropped image\n",
    "    return (cropped_image)\n",
    "\n",
    "# Example usage:\n",
    "image_path = 'r.png'  # Replace with your image path\n",
    "a = show_first_two_lines(image_path)\n",
    "a.save('a.png')\n",
    "a"
   ]
  },
  {
   "cell_type": "code",
   "execution_count": 85,
   "id": "528d15a9",
   "metadata": {},
   "outputs": [
    {
     "data": {
      "image/png": "[encoded data removed]",
      "text/plain": [
       "<PIL.PngImagePlugin.PngImageFile image mode=RGB size=12x192>"
      ]
     },
     "execution_count": 85,
     "metadata": {},
     "output_type": "execute_result"
    }
   ],
   "source": [
    "plot_grid_lines('a.png')"
   ]
  },
  {
   "cell_type": "code",
   "execution_count": 115,
   "id": "07dd79f3",
   "metadata": {},
   "outputs": [
    {
     "name": "stdout",
     "output_type": "stream",
     "text": [
      "# # # # # # # # # # # # # # # # # # # # # # # # #\n",
      "# E #               #                       #   #\n",
      "#   #   # # # # #   # # #       #   #   #   #   #\n",
      "#       #           #           #   #   #   #   #\n",
      "#       #   # # #   #   # # #   #   #   #   #   #\n",
      "#       #           #   #       #   #           #\n",
      "# # # # # # # # #   #   #   # # #   # # # # #   #\n",
      "#                   #   #   #           #   #   #\n",
      "#   # # # # # # # # #   #   #       #   #   #   #\n",
      "#   #                   #   #       #           #\n",
      "#   #   # # # # # # #   #   # # #   #   # # # # #\n",
      "#                       #       #               #\n",
      "# # # # # # #       # # #   #   # # #       #   #\n",
      "#       #           #       #       #       #   #\n",
      "#       #   # # #   #   # # # # #   # # # # #   #\n",
      "#                   #                         S #\n",
      "# # # # # # # # # # # # # # # # # # # # # # # # #\n"
     ]
    }
   ],
   "source": [
    "from PIL import Image\n",
    "\n",
    "def create_symbol_grid(image_path):\n",
    "    \"\"\"Creates a grid of '#' or ' ' symbols based on black/green pixels and their surroundings.\"\"\"\n",
    "\n",
    "    image = Image.open(image_path)\n",
    "    image_rgb = image.convert('RGB')\n",
    "    width, height = image_rgb.size\n",
    "\n",
    "    symbol_grid = []\n",
    "    for y in range(0, height, 12):\n",
    "        row = []\n",
    "        for x in range(0, width, 12):\n",
    "            symbol = ' '  # Assume empty space by default\n",
    "\n",
    "            # Check current pixel and surrounding pixels for black or green\n",
    "            for dy in range(-1, 1):\n",
    "                for dx in range(-1, 1):\n",
    "                    if 0 <= x + dx < width and 0 <= y + dy < height:\n",
    "                        pixel = image_rgb.getpixel((x + dx, y + dy))\n",
    "                        if pixel == (0, 0, 0):\n",
    "                            symbol = '#'  # Found black or green, set symbol to '#'\n",
    "                            break  # No need to check further surrounding pixels\n",
    "                        if pixel == (0, 255, 0):\n",
    "                            symbol = ' '  # Found black or green, set symbol to '#'\n",
    "                            break  # No need to check further surrounding pixels\n",
    "\n",
    "            row.append(symbol)\n",
    "        symbol_grid.append(row)\n",
    "\n",
    "    return symbol_grid\n",
    "\n",
    "# Example usage:\n",
    "image_path = 'r.png'  # Replace with your image path\n",
    "symbol_grid = create_symbol_grid(image_path)\n",
    "\n",
    "def modify_list(symbol_grid):\n",
    "    \"\"\"Modifies a list of lists by adding '#' at the end of each sublist and a full list of '#' at the end.\"\"\"\n",
    "\n",
    "    # Add '#' to the end of each existing sublist\n",
    "    for row in symbol_grid:\n",
    "        row.append('#')\n",
    "\n",
    "    # Add a list full of '#' at the end\n",
    "    symbol_grid.append(['#'] * len(symbol_grid[0]))\n",
    "    symbol_grid[0] = ['#'] * len(symbol_grid[0])# Ensure the new list has the same width as others\n",
    "    for i in range (len(symbol_grid)) : symbol_grid[i][0] = \"#\"\n",
    "    symbol_grid[1][1] = 'E'\n",
    "    symbol_grid[-2][-2] = 'S'\n",
    "\n",
    "    return symbol_grid\n",
    "\n",
    "# Example usage (assuming you have the `symbol_grid` from a previous code):\n",
    "modified_grid = modify_list(symbol_grid)\n",
    "\n",
    "# Print the modified grid (adjust formatting as needed)\n",
    "for row in modified_grid:\n",
    "    print(' '.join(row))\n"
   ]
  },
  {
   "cell_type": "code",
   "execution_count": 98,
   "id": "c997b916",
   "metadata": {},
   "outputs": [
    {
     "data": {
      "text/plain": [
       "16"
      ]
     },
     "execution_count": 98,
     "metadata": {},
     "output_type": "execute_result"
    }
   ],
   "source": [
    "len(symbol_grid)"
   ]
  },
  {
   "cell_type": "code",
   "execution_count": 96,
   "id": "4d569deb",
   "metadata": {},
   "outputs": [
    {
     "name": "stdout",
     "output_type": "stream",
     "text": [
      "# # # # # # # # # # # # # # # # # # # # # # # # # \n",
      "# X # X X X X X X X #     X X X X X         #   # \n",
      "# X # X # # # # # X # # # X     # X #   #   #   # \n",
      "# X X X #         X # X X X     # X #   #   #   # \n",
      "#       #   # # # X # X # # #   # X #   #   #   # \n",
      "#       #         X # X #       # X #           # \n",
      "# # # # # # # # # X # X #   # # # X # # # # #   # \n",
      "# X X X X X X X X X # X #   #     X X X #   #   # \n",
      "# X # # # # # # # # # X #   #       # X #   #   # \n",
      "# X # X X X X X X X X X #   #       # X         # \n",
      "# X # X # # # # # # #   #   # # #   # X # # # # # \n",
      "# X X X                 #       #     X X X X X # \n",
      "# # # # # # #       # # #   #   # # #       # X # \n",
      "#       #           #       #       #       # X # \n",
      "#       #   # # #   #   # # # # #   # # # # # X # \n",
      "#                   #                         X # \n",
      "# # # # # # # # # # # # # # # # # # # # # # # # # \n"
     ]
    },
    {
     "data": {
      "image/png": "[encoded data removed]",
      "text/plain": [
       "<PIL.PngImagePlugin.PngImageFile image mode=RGB size=288x192>"
      ]
     },
     "execution_count": 96,
     "metadata": {},
     "output_type": "execute_result"
    }
   ],
   "source": [
    "import heapq\n",
    "from PIL import Image\n",
    "\n",
    "def heuristic(node, goal):\n",
    "    return abs(node[0] - goal[0]) + abs(node[1] - goal[1])\n",
    "\n",
    "def create_symbol_grid(image_path):\n",
    "    \"\"\"Creates a grid of '#' or ' ' symbols based on black/green pixels and their surroundings.\"\"\"\n",
    "\n",
    "    image = Image.open(image_path)\n",
    "    image_rgb = image.convert('RGB')\n",
    "    width, height = image_rgb.size\n",
    "\n",
    "    symbol_grid = []\n",
    "    for y in range(0, height, 12):\n",
    "        row = []\n",
    "        for x in range(0, width, 12):\n",
    "            symbol = ' '  # Assume empty space by default\n",
    "\n",
    "            # Check current pixel and surrounding pixels for black or green\n",
    "            for dy in range(-1, 1):\n",
    "                for dx in range(-1, 1):\n",
    "                    if 0 <= x + dx < width and 0 <= y + dy < height:\n",
    "                        pixel = image_rgb.getpixel((x + dx, y + dy))\n",
    "                        if pixel == (0, 0, 0):\n",
    "                            symbol = '#'  # Found black or green, set symbol to '#'\n",
    "                            break  # No need to check further surrounding pixels\n",
    "                        if pixel == (0, 255, 0):\n",
    "                            symbol = ' '  # Found black or green, set symbol to '#'\n",
    "                            break  # No need to check further surrounding pixels\n",
    "\n",
    "            row.append(symbol)\n",
    "        symbol_grid.append(row)\n",
    "\n",
    "    return symbol_grid\n",
    "\n",
    "def a_star(maze):\n",
    "    def get_neighbors(node):\n",
    "        row, col = node\n",
    "        neighbors = []\n",
    "\n",
    "        if row > 0 and maze[row - 1][col] != '#':\n",
    "            neighbors.append((row - 1, col))\n",
    "        if row < len(maze) - 1 and maze[row + 1][col] != '#':\n",
    "            neighbors.append((row + 1, col))\n",
    "        if col > 0 and maze[row][col - 1] != '#':\n",
    "            neighbors.append((row, col - 1))\n",
    "        if col < len(maze[0]) - 1 and maze[row][col + 1] != '#':\n",
    "            neighbors.append((row, col + 1))\n",
    "\n",
    "        return neighbors\n",
    "\n",
    "    start = find_start(maze)\n",
    "    end = find_end(maze)\n",
    "\n",
    "    heap = [(0, start)]\n",
    "    visited = set()\n",
    "    came_from = {start: (0, None)}\n",
    "\n",
    "    while heap:\n",
    "        current_cost, current_node = heapq.heappop(heap)\n",
    "\n",
    "        if current_node == end:\n",
    "            path = reconstruct_path(came_from, start, end)\n",
    "            return path\n",
    "\n",
    "        if current_node in visited:\n",
    "            continue\n",
    "\n",
    "        visited.add(current_node)\n",
    "\n",
    "        for neighbor in get_neighbors(current_node):\n",
    "            new_cost = current_cost + 1\n",
    "            if neighbor not in visited and (neighbor not in came_from or new_cost < came_from[neighbor][0]):\n",
    "                heapq.heappush(heap, (new_cost + heuristic(neighbor, end), neighbor))\n",
    "                came_from[neighbor] = (new_cost, current_node)\n",
    "\n",
    "    return None  # No path found\n",
    "\n",
    "def find_start(maze):\n",
    "    for i in range(len(maze)):\n",
    "        for j in range(len(maze[0])):\n",
    "            if maze[i][j] == 'S':\n",
    "                return (i, j)\n",
    "\n",
    "def find_end(maze):\n",
    "    for i in range(len(maze)):\n",
    "        for j in range(len(maze[0])):\n",
    "            if maze[i][j] == 'E':\n",
    "                return (i, j)\n",
    "\n",
    "def reconstruct_path(came_from, start, end):\n",
    "    path = []\n",
    "    current_node = end\n",
    "    while current_node != start:\n",
    "        path.append(current_node)\n",
    "        current_node = came_from[current_node][1]\n",
    "    path.append(start)\n",
    "    path.reverse()\n",
    "    return path\n",
    "\n",
    "def print_solution(maze, path):\n",
    "    for i in range(len(maze)):\n",
    "        for j in range(len(maze[0])):\n",
    "            if (i, j) in path:\n",
    "                print('X', end=' ')\n",
    "            else:\n",
    "                print(maze[i][j], end=' ')\n",
    "        print()\n",
    "\n",
    "def modify_list(symbol_grid):\n",
    "    \"\"\"Modifies a list of lists by adding '#' at the end of each sublist and a full list of '#' at the end.\"\"\"\n",
    "\n",
    "    # Add '#' to the end of each existing sublist\n",
    "    for row in symbol_grid:\n",
    "        row.append('#')\n",
    "\n",
    "    # Add a list full of '#' at the end\n",
    "    symbol_grid.append(['#'] * len(symbol_grid[0]))\n",
    "    symbol_grid[0] = ['#'] * len(symbol_grid[0])# Ensure the new list has the same width as others\n",
    "    for i in range (len(symbol_grid)) : symbol_grid[i][0] = \"#\"\n",
    "    symbol_grid[1][1] = 'E'\n",
    "    symbol_grid[-2][-2] = 'S'\n",
    "\n",
    "    return symbol_grid\n",
    "\n",
    "image_path = 'r.png'  # Replace with your image path\n",
    "symbol_grid = create_symbol_grid(image_path)\n",
    "\n",
    "# Example usage (assuming you have the `symbol_grid` from a previous code):\n",
    "modified_grid = modify_list(symbol_grid)        \n",
    "\n",
    "# Example maze\n",
    "# Exemple de labyrinthe\n",
    "maze5 = modified_grid\n",
    "\n",
    "shortest_path5 = a_star(maze5)\n",
    "\n",
    "if shortest_path5:\n",
    "    #print(\"Le chemin le plus court est :\", shortest_path5)\n",
    "    print_solution(maze5, shortest_path5)\n",
    "else:\n",
    "    print(\"Aucun chemin trouvé.\")\n",
    "    \n",
    "to_reality = []\n",
    "for i in range(len(shortest_path5)):\n",
    "    to_reality.append((shortest_path5[i][1]*12,shortest_path5[i][0]*12))\n",
    "    \n",
    "    \n",
    "from PIL import Image, ImageDraw\n",
    "\n",
    "def draw_line_between_points(image, point1, point2, line_color='red', line_width=1):\n",
    "    draw = ImageDraw.Draw(image)\n",
    "    draw.line([point1, point2], fill=line_color, width=line_width)\n",
    "    del draw \n",
    "    \n",
    "    \n",
    "    \n",
    "def create_white_image(width, height):\n",
    "    return Image.new('RGB', (width, height), color='white')\n",
    "\n",
    "\n",
    "image_width = 288\n",
    "image_height = 192\n",
    "\n",
    "\n",
    "white_image = create_white_image(image_width, image_height)\n",
    "f = Image.open('Nom_équipe X.png')\n",
    "existing_image = f\n",
    "\n",
    "\n",
    "for i in range(len(to_reality)-1):\n",
    "    point1 = to_reality[i]\n",
    "    point2 = to_reality[i+1]\n",
    "    draw_line_between_points(existing_image, point1, point2)\n",
    "\n",
    "#existing_image.save('solution.png')\n",
    "existing_image"
   ]
  },
  {
   "cell_type": "code",
   "execution_count": 89,
   "id": "e3aaff9b",
   "metadata": {},
   "outputs": [
    {
     "name": "stderr",
     "output_type": "stream",
     "text": [
      "2024-01-20 15:44:16.702 \n",
      "  \u001b[33m\u001b[1mWarning:\u001b[0m to view this Streamlit app on a browser, run it with the following\n",
      "  command:\n",
      "\n",
      "    streamlit run c:\\users\\pc\\appdata\\local\\programs\\python\\python39\\lib\\site-packages\\ipykernel_launcher.py [ARGUMENTS]\n"
     ]
    }
   ],
   "source": [
    "import streamlit as st\n",
    "\n",
    "uploaded_files = st.file_uploader(\"Choose a CSV file\", accept_multiple_files=True)\n",
    "for uploaded_file in uploaded_files:\n",
    "    bytes_data = uploaded_file.read()\n",
    "    st.write(\"filename:\", uploaded_file.name)\n",
    "    st.write(bytes_data)"
   ]
  },
  {
   "cell_type": "code",
   "execution_count": 21,
   "id": "3481e6bb",
   "metadata": {},
   "outputs": [
    {
     "data": {
      "text/plain": [
       "(288, 192)"
      ]
     },
     "execution_count": 21,
     "metadata": {},
     "output_type": "execute_result"
    }
   ],
   "source": [
    "maze_image.size"
   ]
  },
  {
   "cell_type": "code",
   "execution_count": 70,
   "id": "48900864",
   "metadata": {},
   "outputs": [],
   "source": [
    "to_reality = []\n",
    "for i in range(len(shortest_path5)):\n",
    "    to_reality.append((shortest_path5[i][1]*12+1,shortest_path5[i][0]*12+1))"
   ]
  },
  {
   "cell_type": "code",
   "execution_count": 71,
   "id": "b180875f",
   "metadata": {
    "scrolled": true
   },
   "outputs": [
    {
     "data": {
      "text/plain": [
       "[(277, 181),\n",
       " (277, 169),\n",
       " (277, 157),\n",
       " (277, 145),\n",
       " (277, 133),\n",
       " (265, 133),\n",
       " (253, 133),\n",
       " (241, 133),\n",
       " (229, 133),\n",
       " (229, 121),\n",
       " (229, 109),\n",
       " (229, 97),\n",
       " (229, 85),\n",
       " (217, 85),\n",
       " (205, 85),\n",
       " (205, 73),\n",
       " (205, 61),\n",
       " (205, 49),\n",
       " (205, 37),\n",
       " (205, 25),\n",
       " (205, 13),\n",
       " (193, 13),\n",
       " (181, 13),\n",
       " (169, 13),\n",
       " (157, 13),\n",
       " (157, 25),\n",
       " (157, 37),\n",
       " (145, 37),\n",
       " (133, 37),\n",
       " (133, 49),\n",
       " (133, 61),\n",
       " (133, 73),\n",
       " (133, 85),\n",
       " (133, 97),\n",
       " (133, 109),\n",
       " (121, 109),\n",
       " (109, 109),\n",
       " (97, 109),\n",
       " (85, 109),\n",
       " (73, 109),\n",
       " (61, 109),\n",
       " (49, 109),\n",
       " (37, 109),\n",
       " (37, 121),\n",
       " (37, 133),\n",
       " (25, 133),\n",
       " (13, 133),\n",
       " (13, 121),\n",
       " (13, 109),\n",
       " (13, 97),\n",
       " (13, 85),\n",
       " (25, 85),\n",
       " (37, 85),\n",
       " (49, 85),\n",
       " (61, 85),\n",
       " (73, 85),\n",
       " (85, 85),\n",
       " (97, 85),\n",
       " (109, 85),\n",
       " (109, 73),\n",
       " (109, 61),\n",
       " (109, 49),\n",
       " (109, 37),\n",
       " (109, 25),\n",
       " (109, 13),\n",
       " (97, 13),\n",
       " (85, 13),\n",
       " (73, 13),\n",
       " (61, 13),\n",
       " (49, 13),\n",
       " (37, 13),\n",
       " (37, 25),\n",
       " (37, 37),\n",
       " (25, 37),\n",
       " (13, 37),\n",
       " (13, 25),\n",
       " (13, 13)]"
      ]
     },
     "execution_count": 71,
     "metadata": {},
     "output_type": "execute_result"
    }
   ],
   "source": [
    "to_reality"
   ]
  },
  {
   "cell_type": "code",
   "execution_count": 72,
   "id": "7eb23428",
   "metadata": {
    "scrolled": true
   },
   "outputs": [
    {
     "data": {
      "image/png": "[encoded data removed]",
      "text/plain": [
       "<PIL.Image.Image image mode=RGB size=288x192>"
      ]
     },
     "execution_count": 72,
     "metadata": {},
     "output_type": "execute_result"
    }
   ],
   "source": [
    "from PIL import Image\n",
    "\n",
    "def create_white_image(width, height):\n",
    "    return Image.new('RGB', (width, height), color='white')\n",
    "\n",
    "\n",
    "image_width = 288\n",
    "image_height = 192\n",
    "\n",
    "\n",
    "white_image = create_white_image(image_width, image_height)\n",
    "\n",
    "white_image\n",
    "#white_image.save('white_image.png')\n"
   ]
  },
  {
   "cell_type": "code",
   "execution_count": 90,
   "id": "a52be2de",
   "metadata": {
    "scrolled": true
   },
   "outputs": [
    {
     "data": {
      "image/png": "[encoded data removed]",
      "text/plain": [
       "<PIL.PngImagePlugin.PngImageFile image mode=RGB size=288x192>"
      ]
     },
     "execution_count": 90,
     "metadata": {},
     "output_type": "execute_result"
    }
   ],
   "source": [
    "from PIL import Image, ImageDraw\n",
    "\n",
    "def draw_line_between_points(image, point1, point2, line_color='blue', line_width=1):\n",
    "    draw = ImageDraw.Draw(image)\n",
    "    draw.line([point1, point2], fill=line_color, width=line_width)\n",
    "    del draw \n",
    "    \n",
    "    \n",
    "    \n",
    "def create_white_image(width, height):\n",
    "    return Image.new('RGB', (width, height), color='white')\n",
    "\n",
    "\n",
    "image_width = 288\n",
    "image_height = 192\n",
    "\n",
    "\n",
    "white_image = create_white_image(image_width, image_height)\n",
    "\n",
    "f = Image.open('r.png')\n",
    "existing_image = f\n",
    "\n",
    "for i in range(len(to_reality)-1):\n",
    "    point1 = to_reality[i]\n",
    "    point2 = to_reality[i+1]\n",
    "    draw_line_between_points(existing_image, point1, point2)\n",
    "\n",
    "existing_image\n"
   ]
  },
  {
   "cell_type": "code",
   "execution_count": null,
   "id": "e64cd473",
   "metadata": {},
   "outputs": [],
   "source": []
  },
  {
   "cell_type": "code",
   "execution_count": null,
   "id": "467994aa",
   "metadata": {},
   "outputs": [],
   "source": []
  }
 ],
 "metadata": {
  "kernelspec": {
   "display_name": "Python 3 (ipykernel)",
   "language": "python",
   "name": "python3"
  },
  "language_info": {
   "codemirror_mode": {
    "name": "ipython",
    "version": 3
   },
   "file_extension": ".py",
   "mimetype": "text/x-python",
   "name": "python",
   "nbconvert_exporter": "python",
   "pygments_lexer": "ipython3",
   "version": "3.9.6"
  }
 },
 "nbformat": 4,
 "nbformat_minor": 5
}
